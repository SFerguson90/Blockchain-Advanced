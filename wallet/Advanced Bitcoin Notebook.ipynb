{
 "cells": [
  {
   "cell_type": "code",
   "execution_count": 116,
   "metadata": {},
   "outputs": [],
   "source": [
    "import subprocess, json, os, web3\n",
    "\n",
    "from dotenv import load_dotenv\n",
    "from constants import *\n",
    "from pprint import pprint\n",
    "from bit import PrivateKeyTestnet, wif_to_key\n",
    "from bit.network import NetworkAPI\n",
    "from web3 import Web3, middleware, Account\n",
    "from web3.gas_strategies.time_based import medium_gas_price_strategy\n",
    "from web3.middleware import geth_poa_middleware\n",
    "\n",
    "load_dotenv()\n",
    "mnemonic_phrase = os.getenv(\"MNEMONIC\")"
   ]
  },
  {
   "cell_type": "code",
   "execution_count": 117,
   "metadata": {},
   "outputs": [
    {
     "output_type": "stream",
     "name": "stdout",
     "text": [
      "4791\n904625697166532776746648320380374280103671755195316906558262375061821325312\n904625697166532776746648320380374280103671755205316906558262375061821325312\n"
     ]
    }
   ],
   "source": [
    "# Connecting to Web3\n",
    "w3 = Web3(Web3.HTTPProvider(os.getenv('WEB3_PROVIDER', 'http://localhost:8545')))\n",
    "w3 = Web3(Web3.HTTPProvider(\"http://127.0.0.1:8545\"))\n",
    "\n",
    "# Accounts\n",
    "account_one = \"0x9Fbf91d40EF59de7e0dF1d7DD5eF8639E213ffb5\"\n",
    "account_two = \"0xC391339E1EB2552d18B00c534B4ED9d5a3617ABA\"\n",
    "\n",
    "# Validate Running Blockchain and blockNumber\n",
    "print(w3.eth.blockNumber)\n",
    "\n",
    "# Validate Balance of Account_One\n",
    "print(w3.eth.getBalance(account_one))\n",
    "\n",
    "# Validate Balance of Account Two\n",
    "print(w3.eth.getBalance(account_two))"
   ]
  },
  {
   "cell_type": "code",
   "execution_count": 118,
   "metadata": {
    "scrolled": true
   },
   "outputs": [
    {
     "output_type": "execute_result",
     "data": {
      "text/plain": [
       "[{'path': \"m/44'/60'/0'/0/0\",\n",
       "  'address': '0x3De0A2fD4A90f9A160ebb2B8711192D1F0eB339D',\n",
       "  'xprv': 'xprvA3W3uzhjas8mpZrqS7oW9ar2SWxLGhwcPFT7S2j7VM8e9PbaYcfSJo4aDdsjd7yi9iPcKkvxg7TzmeNJniz84Y4rYgTaarwiMk66gZNwj3P',\n",
       "  'xpub': 'xpub6GVQKWEdREh533wJY9LWWinkzYnpgAfTkUNiER8j3gfd2Bvj69ygrbP44uSWSEu9BwzQ2mboHQp17puXxT3y9xnXCt256vtjkzV2caX1xeT',\n",
       "  'privkey': '0x82d63adc8be924a92ef77c6e3286c4e80eaebad63ba2b91c27801a62ba2f9410',\n",
       "  'pubkey': '02c93d99b9686cabed081f1eb262b81a435ae2816ba940e0fea550a36603d8077b',\n",
       "  'pubkeyhash': 'a90e4da9a141168d3e0ac3821015190a79df729c',\n",
       "  'index': 0},\n",
       " {'path': \"m/44'/60'/0'/0/1\",\n",
       "  'address': '0xc5557310a53b90f18E926431B1896c29Df0dcc1a',\n",
       "  'xprv': 'xprvA3W3uzhjas8msDSBJH94x7mqj53hfhCweGzWNRqsHamAi3MrZh4cDT4VywH5UH7UboqUbVazKeEn9gLy7TgeMbtWSuyYk852kBG75GZmB4r',\n",
       "  'xpub': 'xpub6GVQKWEdREh55hWeQJg5KFiaH6tC59vo1Vv7ApFUqvJ9aqh17ENrmFNyqBeWXxBLL8hxPeeUw4A8HfovbNetZcGkNj6p1VoJiDt4UJ3L9RU',\n",
       "  'privkey': '0xf0c147a367c5732f750e0dc072540f71ec3e3a87fafee9e7516982861e9e259e',\n",
       "  'pubkey': '0299b67384c634d60ac57d9efc57a93b3a2d87b9eb63e3025652de882c269f2480',\n",
       "  'pubkeyhash': '8703eefc2cdcf91b844d7ec8090d2e89d092de58',\n",
       "  'index': 1},\n",
       " {'path': \"m/44'/60'/0'/0/2\",\n",
       "  'address': '0x926841419b49910D80fCEa75d587BE3aefFf560e',\n",
       "  'xprv': 'xprvA3W3uzhjas8mvbJ4eX1qKPXK7osvsQXSezDFvPW3dEpbJZ35xaJXxBdpPcrXDrqror7a2McmYr5HbL5Xiag834qfBkvhY5YvLKe3MPxFbch',\n",
       "  'xpub': 'xpub6GVQKWEdREh595NXkYYqgXU3fqiRGsFJ2D8rimufBaMaBMNEW7cnVyxJEuPJW5HNqmbaVUfxVVhvPxd4SmjitFxyEY2YJHeF2GXfz5Q8yRb',\n",
       "  'privkey': '0x356c8dd425cf9714114bf73751c13d1ad34f4012e2ac37e564b0aaee238a0d2a',\n",
       "  'pubkey': '02fb003f8b9fd2e765b5c64b7f47832bc46ff818807e7903262c03a29d2b983f6a',\n",
       "  'pubkeyhash': '53c13c213c11034e676536944ec4f2cb5fb0b3c0',\n",
       "  'index': 2}]"
      ]
     },
     "metadata": {},
     "execution_count": 118
    }
   ],
   "source": [
    "# Change directory into Blockchain Tools\n",
    "\n",
    "# Directories of Interest\n",
    "#os.chdir(r\"C:\\Users\\Owner\\OneDrive\\Desktop\\Blockchain-Advanced\\wallet\")\n",
    "#os.chdir(r\"C:\\Users\\Owner\\Blockchain\")\n",
    "\n",
    "# Strategy\n",
    "w3.eth.setGasPriceStrategy(medium_gas_price_strategy)\n",
    "\n",
    "# Basic Variables for Commandline established\n",
    "coin = 'ETH'\n",
    "mnemonic = 'mnemonic'\n",
    "depth = '3'\n",
    "command = f\"php derive -g --mnemonic={mnemonic} --coin={coin} --numderive={depth} --format=json\"\n",
    "\n",
    "\n",
    "p = subprocess.Popen(command, stdout=subprocess.PIPE, shell=True)\n",
    "\n",
    "(output, err) = p.communicate()\n",
    "\n",
    "p_status = p.wait()\n",
    "\n",
    "json.loads(output)"
   ]
  },
  {
   "cell_type": "code",
   "execution_count": 124,
   "metadata": {},
   "outputs": [
    {
     "output_type": "execute_result",
     "data": {
      "text/plain": [
       "{'ETH': [{'path': \"m/44'/60'/0'/0/0\",\n",
       "   'address': '0x3De0A2fD4A90f9A160ebb2B8711192D1F0eB339D',\n",
       "   'xprv': 'xprvA3W3uzhjas8mpZrqS7oW9ar2SWxLGhwcPFT7S2j7VM8e9PbaYcfSJo4aDdsjd7yi9iPcKkvxg7TzmeNJniz84Y4rYgTaarwiMk66gZNwj3P',\n",
       "   'xpub': 'xpub6GVQKWEdREh533wJY9LWWinkzYnpgAfTkUNiER8j3gfd2Bvj69ygrbP44uSWSEu9BwzQ2mboHQp17puXxT3y9xnXCt256vtjkzV2caX1xeT',\n",
       "   'privkey': '0x82d63adc8be924a92ef77c6e3286c4e80eaebad63ba2b91c27801a62ba2f9410',\n",
       "   'pubkey': '02c93d99b9686cabed081f1eb262b81a435ae2816ba940e0fea550a36603d8077b',\n",
       "   'pubkeyhash': 'a90e4da9a141168d3e0ac3821015190a79df729c',\n",
       "   'index': 0},\n",
       "  {'path': \"m/44'/60'/0'/0/1\",\n",
       "   'address': '0xc5557310a53b90f18E926431B1896c29Df0dcc1a',\n",
       "   'xprv': 'xprvA3W3uzhjas8msDSBJH94x7mqj53hfhCweGzWNRqsHamAi3MrZh4cDT4VywH5UH7UboqUbVazKeEn9gLy7TgeMbtWSuyYk852kBG75GZmB4r',\n",
       "   'xpub': 'xpub6GVQKWEdREh55hWeQJg5KFiaH6tC59vo1Vv7ApFUqvJ9aqh17ENrmFNyqBeWXxBLL8hxPeeUw4A8HfovbNetZcGkNj6p1VoJiDt4UJ3L9RU',\n",
       "   'privkey': '0xf0c147a367c5732f750e0dc072540f71ec3e3a87fafee9e7516982861e9e259e',\n",
       "   'pubkey': '0299b67384c634d60ac57d9efc57a93b3a2d87b9eb63e3025652de882c269f2480',\n",
       "   'pubkeyhash': '8703eefc2cdcf91b844d7ec8090d2e89d092de58',\n",
       "   'index': 1},\n",
       "  {'path': \"m/44'/60'/0'/0/2\",\n",
       "   'address': '0x926841419b49910D80fCEa75d587BE3aefFf560e',\n",
       "   'xprv': 'xprvA3W3uzhjas8mvbJ4eX1qKPXK7osvsQXSezDFvPW3dEpbJZ35xaJXxBdpPcrXDrqror7a2McmYr5HbL5Xiag834qfBkvhY5YvLKe3MPxFbch',\n",
       "   'xpub': 'xpub6GVQKWEdREh595NXkYYqgXU3fqiRGsFJ2D8rimufBaMaBMNEW7cnVyxJEuPJW5HNqmbaVUfxVVhvPxd4SmjitFxyEY2YJHeF2GXfz5Q8yRb',\n",
       "   'privkey': '0x356c8dd425cf9714114bf73751c13d1ad34f4012e2ac37e564b0aaee238a0d2a',\n",
       "   'pubkey': '02fb003f8b9fd2e765b5c64b7f47832bc46ff818807e7903262c03a29d2b983f6a',\n",
       "   'pubkeyhash': '53c13c213c11034e676536944ec4f2cb5fb0b3c0',\n",
       "   'index': 2}],\n",
       " 'BTCTEST': [{'path': \"m/44'/1'/0'/0/0\",\n",
       "   'address': 'mtgb9hthmFpY1zidrYmZ24eTF87aBA147h',\n",
       "   'xprv': 'tprv8kmimjp9GYq9EvcrxozEhxzk9jGwaC73BSiy3ATqwwikM4YgH7685zQLzX7xzXAmhXxf5LZbpbqtSGX3fcNFbfVJdxuEYPrA5tDRRQgwPRm',\n",
       "   'xpub': 'tpubDHTkv9rPQvWp8PeerTeq7NeriknsjXHwkkKkKgW9NDX9BYoSuVuiGV2DAejLNv85zVm31akUTVk6Z8MyhECbWDzQ3Qir4GoRCXfBgKk8GxA',\n",
       "   'privkey': 'cVAgDoahzo5Ucdv8ioxxubvmE6LfU3ZQgJ21UvY4eC1xi6WkvnXe',\n",
       "   'pubkey': '0339b281b12687c70a024ef409229b55d404533b4e9a475dc9d3883c0172913fb6',\n",
       "   'pubkeyhash': '906c250da82c2bd3edf9bcbbbb29f2188065f9d2',\n",
       "   'index': 0},\n",
       "  {'path': \"m/44'/1'/0'/0/1\",\n",
       "   'address': 'mxwSU31v1NtbUi6Pc5bN9BgmmAGw13JdvX',\n",
       "   'xprv': 'tprv8kmimjp9GYq9FvSyaAKU2MY38GBpiMHEsjgMtnLaMhyZQPzAiEM6ZTC8z9vdTsJVRQDcoCvLeWEHiPWWLpiGMjoYcffLhXJXNbJawYjKTof',\n",
       "   'xpub': 'tpubDHTkv9rPQvWp9PUmToz4RmC9hHhksgU9T3H9BJNsmymxEtEwLdAgjwp1AHtm7kbkbHvsC3zA3cjHi6DAFtGCvFMgY961mo7mg5ABBu21126',\n",
       "   'privkey': 'cRG5vrAkkq3ZkTmT2mmqCgbxd8niBdXx3ocDMd1771oSzJDvqXiC',\n",
       "   'pubkey': '02f4468eae06b195a4f83cc63d680d015d512af60288977e0283fd4299bfcde24b',\n",
       "   'pubkeyhash': 'bf1ba366dd65a4824c22f497bbff1fae89007841',\n",
       "   'index': 1},\n",
       "  {'path': \"m/44'/1'/0'/0/2\",\n",
       "   'address': 'n2QTqdWK96XyJ7o8LXqoCjNbmtrFNFbNb6',\n",
       "   'xprv': 'tprv8kmimjp9GYq9JExZDMjKjYhzHGQwQHVmMh2cRP5BLMAgCbw7fNgDssZJCujBDau2t2PEzddu8QApnrgnhzktN4LT8BXEM7HDSrxMHM6XasY',\n",
       "   'xpub': 'tpubDHTkv9rPQvWpBhzM71Pv8xN6rHvsZcgfvzdPhu7Ukcy536BtHmVp4NBAP4aP5Laycoz7Shaprf1xgAyBrZdGuoDWUFcrPc3UuiqRTBcQnxt',\n",
       "   'privkey': 'cUMUWn4yukMK41LpebaCmnbH26XCQn9EDoSK753FxSNxQC77i5TU',\n",
       "   'pubkey': '03c486d31c700f8342f6dac13fffaab4d44c492637042659ae2922846c89077101',\n",
       "   'pubkeyhash': 'e5206464e15c29f28f54678782a909be5954f6cc',\n",
       "   'index': 2}]}"
      ]
     },
     "metadata": {},
     "execution_count": 124
    }
   ],
   "source": [
    "def derive_wallets(coin=BTC, mnemonic=mnemonic, depth=3):\n",
    "    command = f\"php derive -g --mnemonic={mnemonic} --coin={coin} --numderive={depth} --format=json\"\n",
    "    \n",
    "    p = subprocess.Popen(\n",
    "        command,\n",
    "        stdout=subprocess.PIPE,\n",
    "        shell=True)\n",
    "    \n",
    "    (output, err) = p.communicate()\n",
    "    p_status = p.wait()\n",
    "    return json.loads(output)\n",
    "\n",
    "\n",
    "# COINS OBJECT\n",
    "coins = {\n",
    "    \"ETH\":derive_wallets(coin=ETH),\n",
    "    \"BTCTEST\":derive_wallets(coin=BTCTEST)\n",
    "}\n",
    "\n",
    "coins"
   ]
  },
  {
   "cell_type": "code",
   "execution_count": 112,
   "metadata": {
    "scrolled": true
   },
   "outputs": [
    {
     "output_type": "stream",
     "name": "stdout",
     "text": [
      "Ethereum Priv Key \n\n0x82d63adc8be924a92ef77c6e3286c4e80eaebad63ba2b91c27801a62ba2f9410 \n\n0xf0c147a367c5732f750e0dc072540f71ec3e3a87fafee9e7516982861e9e259e \n\n0x356c8dd425cf9714114bf73751c13d1ad34f4012e2ac37e564b0aaee238a0d2a \n\n====================================================================== \n\nBTC Priv Key \n\ncVAgDoahzo5Ucdv8ioxxubvmE6LfU3ZQgJ21UvY4eC1xi6WkvnXe \n\ncRG5vrAkkq3ZkTmT2mmqCgbxd8niBdXx3ocDMd1771oSzJDvqXiC \n\ncUMUWn4yukMK41LpebaCmnbH26XCQn9EDoSK753FxSNxQC77i5TU \n\n"
     ]
    }
   ],
   "source": [
    "eth_wallets_privkeys = []\n",
    "btc_wallets_privkeys = []\n",
    "\n",
    "for wallet in coins[\"eth\"]:\n",
    "    eth_wallets_privkeys.append(wallet['privkey'])\n",
    "for wallet in coins[\"btc-test\"]:\n",
    "    btc_wallets_privkeys.append(wallet['privkey'])\n",
    "\n",
    "print(\"Ethereum Priv Key \\n\")\n",
    "for eprivkey in eth_wallets_privkeys:\n",
    "    print(f\"{eprivkey} \\n\")\n",
    "\n",
    "print(\"=\"*70, \"\\n\")\n",
    "\n",
    "print(\"BTC Priv Key \\n\")\n",
    "for bprivkey in btc_wallets_privkeys:\n",
    "    print(f\"{bprivkey} \\n\")"
   ]
  },
  {
   "cell_type": "code",
   "execution_count": 113,
   "metadata": {},
   "outputs": [],
   "source": [
    "def priv_key_to_account(coin, priv_key):\n",
    "    \n",
    "    if coin.upper() == \"ETH\":\n",
    "        account = Account.from_key(priv_key)\n",
    "    elif coin.upper() == \"BTCTEST\":\n",
    "        account = wif_to_key(priv_key)\n",
    "    return account\n",
    "\n",
    "def create_tx(coin, account, recipient, amount):\n",
    "    \n",
    "    if coin.upper() == \"ETH\":\n",
    "        \n",
    "        gasEstimate = w3.eth.estimateGas({\n",
    "            \"from\": account, \"to\": recipient, \"value\": int(amount)\n",
    "            })\n",
    "\n",
    "        return {\n",
    "            'from': account,\n",
    "            'to': recipient,\n",
    "            'value': int(amount),\n",
    "            'gas': gasEstimate,\n",
    "            'gasPrice': w3.eth.gasPrice,\n",
    "            'nonce': w3.eth.getTransactionCount(account)\n",
    "            }\n",
    "    \n",
    "    if coin.upper() == \"BTCTEST\":\n",
    "        \n",
    "        return PrivateKeyTestnet.prepare_transaction(account,[(recipient,amount,BTC)])\n",
    "    \n",
    "    pass\n",
    "\n",
    "def send_tx(coin, account, recipient, amount):\n",
    "    \n",
    "    raw_tx = create_tx(coin, account, recipient, amount)\n",
    "    \n",
    "    if coin.upper() == 'ETH':\n",
    "            signed_tx = account.sign_transaction(raw_tx)\n",
    "            result = w3.eth.sendRawTransaction(signed_tx.rawTransaction)\n",
    "            result = w3.eth.getTransaction(result.hex())\n",
    "    elif coin.upper() == 'BTCTEST': \n",
    "            signed_tx = account.sign_transaction(raw_tx)\n",
    "            result = bit.network.NetworkAPI.broadcast_tx_testnet(signed_tx)\n",
    "    \n",
    "    return result"
   ]
  },
  {
   "cell_type": "code",
   "execution_count": 114,
   "metadata": {},
   "outputs": [],
   "source": [
    "recipient = account_two\n",
    "amount = int(12345)\n",
    "coin = \"BTCTEST\"\n",
    "priv_key = \"cVAgDoahzo5Ucdv8ioxxubvmE6LfU3ZQgJ21UvY4eC1xi6WkvnXe\" \n",
    "rec_key = \"cUMUWn4yukMK41LpebaCmnbH26XCQn9EDoSK753FxSNxQC77i5TU\"\n",
    "\n",
    "# priv_key_to_account test\n",
    "#btc_sender = \n",
    "btc_sender = priv_key_to_account(coin=coin,priv_key=priv_key).address\n",
    "# OBJECT: <PrivateKeyTestnet: mtgb9hthmFpY1zidrYmZ24eTF87aBA147h>\n",
    "# OBJECT.address: mtgb9hthmFpY1zidrYmZ24eTF87aBA147h\n",
    "\n",
    "btc_receiver = priv_key_to_account(coin=coin,priv_key=rec_key).address\n",
    "# OBJECT: <PrivateKeyTestnet: n2QTqdWK96XyJ7o8LXqoCjNbmtrFNFbNb6>\n",
    "# OBJECT.address: n2QTqdWK96XyJ7o8LXqoCjNbmtrFNFbNb6\n",
    "\n",
    "# Going to BTC-Test Faucet for coins, with which we can transfer & make tx\n",
    "\n",
    "#----------------------------------------------------------------------\n",
    "#testnet-faucet.mempool.co\n",
    "#Transaction sent\n",
    "#----------------------------------------------------------------------\n",
    "#TxID: f3e3bdefb7f9fe671f87bde0267b6d7411ec9321db67b0864530bef4e809f10d\n",
    "#Address: mtgb9hthmFpY1zidrYmZ24eTF87aBA147h\n",
    "#Amount: 0.01\n",
    "#----------------------------------------------------------------------\n",
    "\n",
    "\n",
    "# create_tx test\n",
    "#create_tx(coin=coin,account=btc_sender,recipient=account_two,amount=12345)\n",
    "\n",
    "# send_tx test\n",
    "#send_tx(coin=coin, account=btc_sender, recipient=account_two, amount=amount)"
   ]
  },
  {
   "cell_type": "code",
   "execution_count": null,
   "metadata": {},
   "outputs": [],
   "source": []
  }
 ],
 "metadata": {
  "kernelspec": {
   "display_name": "Python 3",
   "language": "python",
   "name": "python3"
  },
  "language_info": {
   "codemirror_mode": {
    "name": "ipython",
    "version": 3
   },
   "file_extension": ".py",
   "mimetype": "text/x-python",
   "name": "python",
   "nbconvert_exporter": "python",
   "pygments_lexer": "ipython3",
   "version": "3.7.9-final"
  }
 },
 "nbformat": 4,
 "nbformat_minor": 4
}